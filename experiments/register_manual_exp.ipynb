{
 "cells": [
  {
   "cell_type": "code",
   "execution_count": 1,
   "metadata": {},
   "outputs": [
    {
     "name": "stderr",
     "output_type": "stream",
     "text": [
      "/home/ivan/miniconda3/envs/imgreg/lib/python3.8/site-packages/tqdm/auto.py:21: TqdmWarning: IProgress not found. Please update jupyter and ipywidgets. See https://ipywidgets.readthedocs.io/en/stable/user_install.html\n",
      "  from .autonotebook import tqdm as notebook_tqdm\n"
     ]
    }
   ],
   "source": [
    "import os\n",
    "import time\n",
    "import subprocess\n",
    "import json\n",
    "from concurrent.futures import ProcessPoolExecutor\n",
    "\n",
    "import numpy as np\n",
    "import SimpleITK as sitk\n",
    "\n",
    "import utils\n",
    "\n",
    "from networks import deformable"
   ]
  },
  {
   "cell_type": "code",
   "execution_count": 2,
   "metadata": {},
   "outputs": [],
   "source": [
    "### Identity - to create results without any registration (useful for creating the baseline)\n",
    "# output_path = None # TO DEFINE\n",
    "# dhr_params = dict()\n",
    "# dhr_params['segmentation_mode'] = \"deep_segmentation\"\n",
    "# dhr_params['initial_rotation'] = False\n",
    "# dhr_params['affine_registration'] = False\n",
    "# dhr_params['nonrigid_registration'] = False\n",
    "# segmentation_params = dict()\n",
    "# segmentation_params['model_path'] =  None # Path to segmentation model\n",
    "# dhr_params['segmentation_params'] = segmentation_params\n",
    "# load_masks = False\n",
    "###\n",
    "\n",
    "### Seg + Rotation Params - to create results from the initial rotation (useful for creating the affine training dataset)\n",
    "# output_path = None # TO DEFINE\n",
    "# dhr_params = dict()\n",
    "# dhr_params['segmentation_mode'] = \"deep_segmentation\"\n",
    "# dhr_params['initial_rotation'] = True\n",
    "# dhr_params['affine_registration'] = False\n",
    "# dhr_params['nonrigid_registration'] = False\n",
    "# initial_rotation_params = dict()\n",
    "# initial_rotation_params['angle_step'] = 1\n",
    "# dhr_params['initial_rotation_params'] = initial_rotation_params\n",
    "# segmentation_params = dict()\n",
    "# segmentation_params['model_path'] =  None # Path to segmentation model\n",
    "# dhr_params['segmentation_params'] = segmentation_params\n",
    "# load_masks = False\n",
    "###\n",
    "\n",
    "## Seg + Rotation Params + Affine - to create results from the initial rotation + affine registration (useful for creating the nonrigid training dataset)\n",
    "# STEP 1\n",
    "# dataset_path = \"/data/ANHIR_Parsed_1024_Masks\"\n",
    "# output_path = \"/data/ANHIR_Out_Aff_1024_Masks_TRANSFORMED\"\n",
    "# dhr_params = dict()\n",
    "# dhr_params[\"segmentation_mode\"] = None  # or \"deep_segmentation\"\n",
    "# dhr_params[\"initial_rotation\"] = False\n",
    "# dhr_params[\"affine_registration\"] = True\n",
    "# dhr_params[\"nonrigid_registration\"] = False\n",
    "# initial_rotation_params = dict()\n",
    "# initial_rotation_params[\"angle_step\"] = 1\n",
    "# dhr_params[\"initial_rotation_params\"] = initial_rotation_params\n",
    "# affine_registration_params = dict()\n",
    "# models_path = paths.models_path\n",
    "# affine_registration_params[\"model_path\"] = \"/data/outdoor_megadepth.ckpt\"\n",
    "# affine_registration_params[\n",
    "#     \"main_config_path\"\n",
    "# ] = \"./networks/feature_matching/configs/loftr/outdoor/loftr_ds_quadtree.py\"\n",
    "# affine_registration_params[\"affine_type\"] = \"quadtree\"\n",
    "# affine_registration_params[\"resize\"] = False\n",
    "# dhr_params[\"affine_registration_params\"] = affine_registration_params\n",
    "# segmentation_params = dict()\n",
    "# segmentation_params[\"model_path\"] = None  # Path to segmentation model\n",
    "# dhr_params[\"segmentation_params\"] = segmentation_params\n",
    "# load_masks = True\n",
    "##\n",
    "\n",
    "# STEP 2 (only deformable)\n",
    "dataset_path = \"/data/ANHIR_Out_Aff_1024_Masks_TRANSFORMED\"\n",
    "output_path = \"/data/ANHIR_Out_Aff_1024_Masks_TRANSFORMED_DEFORMABLE_EXP03\"\n",
    "dhr_params = dict()\n",
    "dhr_params[\"segmentation_mode\"] = None  # or \"deep_segmentation\"\n",
    "dhr_params[\"initial_rotation\"] = False\n",
    "dhr_params[\"affine_registration\"] = False\n",
    "dhr_params[\"nonrigid_registration\"] = True\n",
    "initial_rotation_params = dict()\n",
    "initial_rotation_params[\"angle_step\"] = 1\n",
    "dhr_params[\"initial_rotation_params\"] = initial_rotation_params\n",
    "# affine_registration_params = dict()\n",
    "# models_path = paths.models_path\n",
    "# affine_registration_params[\"model_path\"] = \"/data/outdoor_megadepth.ckpt\"\n",
    "# affine_registration_params[\n",
    "#     \"main_config_path\"\n",
    "# ] = \"./networks/feature_matching/configs/loftr/outdoor/loftr_ds_quadtree.py\"\n",
    "# affine_registration_params[\"affine_type\"] = \"quadtree\"\n",
    "# affine_registration_params[\"resize\"] = False\n",
    "nonrigid_registration_params = dict()  # Params used during training\n",
    "nonrigid_registration_params[\"model\"] = \"dfbr\"\n",
    "dhr_params[\"nonrigid_registration_params\"] = nonrigid_registration_params\n",
    "# dhr_params[\"affine_registration_params\"] = affine_registration_params\n",
    "# segmentation_params = dict()\n",
    "# segmentation_params[\"model_path\"] = None  # Path to segmentation model\n",
    "# dhr_params[\"segmentation_params\"] = segmentation_params\n",
    "load_masks = True\n",
    "\n",
    "# ### Seg + Rotation Params + Affine + Nonrigid - to create final nonrigid results\n",
    "# output_path = None # TO DEFINE\n",
    "# dhr_params = dict()\n",
    "# dhr_params['segmentation_mode'] = \"deep_segmentation\"\n",
    "# dhr_params['initial_rotation'] = True\n",
    "# dhr_params['affine_registration'] = True\n",
    "# dhr_params['nonrigid_registration'] = True\n",
    "# initial_rotation_params = dict()\n",
    "# initial_rotation_params['angle_step'] = 1\n",
    "# dhr_params['initial_rotation_params'] = initial_rotation_params\n",
    "# affine_registration_params = dict()\n",
    "# models_path = None # TO DEFINE\n",
    "# affine_registration_params['model_path'] = None # TO DEFINE\n",
    "# affine_registration_params['affine_type'] = \"simple\"\n",
    "# dhr_params['affine_registration_params'] = affine_registration_params\n",
    "# nonrigid_registration_params = dict() # Params used during training\n",
    "# nonrigid_registration_params['stride'] = 128\n",
    "# nonrigid_registration_params['patch_size'] = (256, 256)\n",
    "# nonrigid_registration_params['number_of_patches'] = 32\n",
    "# nonrigid_registration_params['num_levels'] = 3\n",
    "# nonrigid_registration_params['inner_iterations_per_level'] = [3, 3, 3]\n",
    "# nonrigid_registration_params['model_path'] = None # TO DEFINE\n",
    "# dhr_params['nonrigid_registration_params'] = nonrigid_registration_params\n",
    "# segmentation_params = dict()\n",
    "# segmentation_params['model_path'] =  None # TO DEFINE\n",
    "# dhr_params['segmentation_params'] = segmentation_params\n",
    "# load_masks = False\n",
    "# ###"
   ]
  },
  {
   "cell_type": "code",
   "execution_count": 3,
   "metadata": {},
   "outputs": [],
   "source": [
    "def register(current_id):\n",
    "    import torch\n",
    "\n",
    "    device = torch.device(\"cuda:0\" if torch.cuda.is_available() else \"cpu\")\n",
    "    b_loading = time.time()\n",
    "    current_pair = str(current_id)\n",
    "    current_pair_dir = os.path.join(output_path, str(current_id))\n",
    "    if os.path.exists(current_pair_dir):\n",
    "        print(\n",
    "            \"Directory for current pair {} already exists. Skipping registration.\".format(\n",
    "                current_id\n",
    "            )\n",
    "        )\n",
    "        return\n",
    "    if load_masks:\n",
    "        (\n",
    "            source,\n",
    "            target,\n",
    "            source_landmarks,\n",
    "            target_landmarks,\n",
    "            status,\n",
    "            source_mask,\n",
    "            target_mask,\n",
    "        ) = utils.load_pair_registered(\n",
    "            current_pair, dataset_path, load_masks=load_masks\n",
    "        )\n",
    "    else:\n",
    "        (\n",
    "            source,\n",
    "            target,\n",
    "            source_landmarks,\n",
    "            target_landmarks,\n",
    "            status,\n",
    "        ) = utils.load_pair_registered(\n",
    "            current_pair, dataset_path, load_masks=load_masks\n",
    "        )\n",
    "    print(\"Current pair: \", current_pair)\n",
    "    print(\"Status: \", status)\n",
    "\n",
    "    e_loading = time.time()\n",
    "    loading_time = e_loading - b_loading\n",
    "    print(\"Time for loading and memory transfer: \", loading_time)\n",
    "    b_registration = time.time()\n",
    "\n",
    "    try:\n",
    "        displacement_field = deformable.register(\n",
    "            source, target, source_mask, target_mask\n",
    "        )\n",
    "    except Exception as e:\n",
    "        print(e)\n",
    "        displacement_field = torch.zeros(\n",
    "            (source.shape[0], source.shape[1], 2), dtype=torch.float32\n",
    "        )\n",
    "\n",
    "    source = torch.from_numpy(source).to(device)\n",
    "    target = torch.from_numpy(target).to(device)\n",
    "\n",
    "    transformed_target = utils.warp_tensor(target, displacement_field, device=device)\n",
    "\n",
    "    transformed_source_landmarks = utils.transform_landmarks(\n",
    "        source_landmarks, displacement_field\n",
    "    )\n",
    "\n",
    "    e_registration = time.time()\n",
    "    registration_time = e_registration - b_registration\n",
    "    print(\"Time for registration: \", registration_time)\n",
    "\n",
    "    source_save_path = os.path.join(output_path, current_pair, \"source.mha\")\n",
    "    target_save_path = os.path.join(output_path, current_pair, \"target.mha\")\n",
    "    transformed_target_save_path = os.path.join(\n",
    "        output_path, current_pair, \"transformed_target.mha\"\n",
    "    )\n",
    "    source_landmarks_path = os.path.join(\n",
    "        output_path, current_pair, \"source_landmarks.csv\"\n",
    "    )\n",
    "    transformed_source_landmarks_path = os.path.join(\n",
    "        output_path, current_pair, \"transformed_source_landmarks.csv\"\n",
    "    )\n",
    "    if status == \"training\":\n",
    "        target_landmarks_path = os.path.join(\n",
    "            output_path, current_pair, \"target_landmarks.csv\"\n",
    "        )\n",
    "\n",
    "    if not os.path.isdir(os.path.dirname(source_save_path)):\n",
    "        os.makedirs(os.path.dirname(source_save_path))\n",
    "\n",
    "    sitk.WriteImage(sitk.GetImageFromArray(source.cpu().numpy()), source_save_path)\n",
    "    sitk.WriteImage(sitk.GetImageFromArray(target.cpu().numpy()), target_save_path)\n",
    "    sitk.WriteImage(\n",
    "        sitk.GetImageFromArray(transformed_target.cpu().numpy()),\n",
    "        transformed_target_save_path,\n",
    "    )\n",
    "    utils.save_landmarks(source_landmarks, source_landmarks_path)\n",
    "    utils.save_landmarks(\n",
    "        transformed_source_landmarks, transformed_source_landmarks_path\n",
    "    )\n",
    "\n",
    "    if status == \"training\":\n",
    "        utils.save_landmarks(target_landmarks, target_landmarks_path)\n",
    "        try:\n",
    "            image_diagonal = np.sqrt(source.shape[0] ** 2 + source.shape[1] ** 2)\n",
    "            rtre_initial = utils.calculate_rtre(\n",
    "                source_landmarks, target_landmarks, image_diagonal\n",
    "            )\n",
    "            rtre_final = utils.calculate_rtre(\n",
    "                transformed_source_landmarks, target_landmarks, image_diagonal\n",
    "            )\n",
    "            string_to_save = (\n",
    "                \"Initial TRE: \"\n",
    "                + str(np.median(rtre_initial))\n",
    "                + \"\\n\"\n",
    "                + \"Resulting TRE: \"\n",
    "                + str(np.median(rtre_final))\n",
    "            )\n",
    "            txt_path = os.path.join(output_path, current_pair, \"tre.txt\")\n",
    "            with open(txt_path, \"w\") as file:\n",
    "                file.write(string_to_save)\n",
    "        except:\n",
    "            pass\n",
    "    time_to_save = str(registration_time + loading_time)\n",
    "    time_txt_path = os.path.join(output_path, current_pair, \"time.txt\")\n",
    "    with open(time_txt_path, \"w\") as file:\n",
    "        file.write(time_to_save)\n",
    "\n",
    "\n",
    "def run_script(current_id):\n",
    "    args_str = json.dumps(args)\n",
    "\n",
    "    process = subprocess.run(\n",
    "        [\n",
    "            \"nice\",\n",
    "            \"-n\",\n",
    "            \"10\",\n",
    "            \"python\",\n",
    "            \"register_deformable.py\",\n",
    "            str(current_id),\n",
    "            args_str,\n",
    "        ]\n",
    "    )\n",
    "\n",
    "\n",
    "def run(ids):\n",
    "    num_processes = 6  # Adjust based on system resources\n",
    "    with ProcessPoolExecutor(max_workers=num_processes) as executor:\n",
    "        for _ in executor.map(run_script, ids):\n",
    "            pass"
   ]
  },
  {
   "cell_type": "code",
   "execution_count": 4,
   "metadata": {},
   "outputs": [],
   "source": [
    "args = {\n",
    "    \"dataset_path\": dataset_path,\n",
    "    \"output_path\": output_path,\n",
    "    \"load_masks\": load_masks,\n",
    "}\n",
    "\n",
    "ids_list = range(0,481)"
   ]
  },
  {
   "cell_type": "code",
   "execution_count": 5,
   "metadata": {},
   "outputs": [
    {
     "name": "stdout",
     "output_type": "stream",
     "text": [
      "Current pair:  1\n",
      "Status:  evaluation\n",
      "Time for loading and memory transfer:  0.012547492980957031\n",
      "Current pair:  0\n",
      "Status:  evaluation\n",
      "Time for loading and memory transfer:  0.015341758728027344\n",
      "Current pair: Current pair:   54\n",
      "\n",
      "Status: Status:   trainingtraining\n",
      "\n",
      "Time for loading and memory transfer:  Time for loading and memory transfer:  0.017367601394653320.017390012741088867\n",
      "\n",
      "Current pair:  2\n",
      "Status:  evaluation\n",
      "Time for loading and memory transfer:  0.017061948776245117\n",
      "Current pair:  3\n",
      "Status:  evaluation\n",
      "Time for loading and memory transfer:  0.01787710189819336\n"
     ]
    },
    {
     "name": "stderr",
     "output_type": "stream",
     "text": [
      "/home/ivan/miniconda3/envs/imgreg/lib/python3.8/site-packages/torch/nn/functional.py:3828: UserWarning: Default grid_sample and affine_grid behavior has changed to align_corners=False since 1.3.0. Please specify align_corners=True if the old behavior is desired. See the documentation of grid_sample for details.\n",
      "  warnings.warn(\n"
     ]
    },
    {
     "name": "stdout",
     "output_type": "stream",
     "text": [
      "Time for registration:  24.35227370262146\n",
      "Current pair:  6\n",
      "Status:  training\n",
      "Time for loading and memory transfer:  0.06125664710998535\n"
     ]
    },
    {
     "name": "stderr",
     "output_type": "stream",
     "text": [
      "/home/ivan/miniconda3/envs/imgreg/lib/python3.8/site-packages/torch/nn/functional.py:3828: UserWarning: Default grid_sample and affine_grid behavior has changed to align_corners=False since 1.3.0. Please specify align_corners=True if the old behavior is desired. See the documentation of grid_sample for details.\n",
      "  warnings.warn(\n"
     ]
    },
    {
     "name": "stdout",
     "output_type": "stream",
     "text": [
      "Time for registration:  31.136536836624146\n"
     ]
    },
    {
     "name": "stderr",
     "output_type": "stream",
     "text": [
      "/home/ivan/miniconda3/envs/imgreg/lib/python3.8/site-packages/torch/nn/functional.py:3828: UserWarning: Default grid_sample and affine_grid behavior has changed to align_corners=False since 1.3.0. Please specify align_corners=True if the old behavior is desired. See the documentation of grid_sample for details.\n",
      "  warnings.warn(\n"
     ]
    },
    {
     "name": "stdout",
     "output_type": "stream",
     "text": [
      "Time for registration:  33.38449311256409\n",
      "Current pair:  7\n",
      "Status:  training\n",
      "Time for loading and memory transfer:  0.03179526329040527\n"
     ]
    },
    {
     "name": "stderr",
     "output_type": "stream",
     "text": [
      "/home/ivan/miniconda3/envs/imgreg/lib/python3.8/site-packages/torch/nn/functional.py:3828: UserWarning: Default grid_sample and affine_grid behavior has changed to align_corners=False since 1.3.0. Please specify align_corners=True if the old behavior is desired. See the documentation of grid_sample for details.\n",
      "  warnings.warn(\n"
     ]
    },
    {
     "name": "stdout",
     "output_type": "stream",
     "text": [
      "Time for registration:  35.45504832267761\n",
      "Current pair:  8\n",
      "Status:  training\n",
      "Time for loading and memory transfer:  0.030834674835205078\n",
      "Current pair:  9\n",
      "Status:  evaluation\n",
      "Time for loading and memory transfer:  0.03376150131225586\n"
     ]
    },
    {
     "name": "stderr",
     "output_type": "stream",
     "text": [
      "/home/ivan/miniconda3/envs/imgreg/lib/python3.8/site-packages/torch/nn/functional.py:3828: UserWarning: Default grid_sample and affine_grid behavior has changed to align_corners=False since 1.3.0. Please specify align_corners=True if the old behavior is desired. See the documentation of grid_sample for details.\n",
      "  warnings.warn(\n",
      "/home/ivan/miniconda3/envs/imgreg/lib/python3.8/site-packages/torch/nn/functional.py:3828: UserWarning: Default grid_sample and affine_grid behavior has changed to align_corners=False since 1.3.0. Please specify align_corners=True if the old behavior is desired. See the documentation of grid_sample for details.\n",
      "  warnings.warn(\n"
     ]
    },
    {
     "name": "stdout",
     "output_type": "stream",
     "text": [
      "Time for registration:  39.231212854385376\n",
      "Time for registration:  39.20592951774597\n",
      "Current pair:  10\n",
      "Status:  evaluation\n",
      "Time for loading and memory transfer:  0.038999319076538086\n",
      "Current pair:  11\n",
      "Status:  evaluation\n",
      "Time for loading and memory transfer:  0.046404123306274414\n"
     ]
    },
    {
     "name": "stderr",
     "output_type": "stream",
     "text": [
      "/home/ivan/miniconda3/envs/imgreg/lib/python3.8/site-packages/torch/nn/functional.py:3828: UserWarning: Default grid_sample and affine_grid behavior has changed to align_corners=False since 1.3.0. Please specify align_corners=True if the old behavior is desired. See the documentation of grid_sample for details.\n",
      "  warnings.warn(\n"
     ]
    },
    {
     "name": "stdout",
     "output_type": "stream",
     "text": [
      "Time for registration:  32.10490703582764\n",
      "Current pair:  12\n",
      "Status:  evaluation\n",
      "Time for loading and memory transfer:  0.17312216758728027\n"
     ]
    },
    {
     "name": "stderr",
     "output_type": "stream",
     "text": [
      "/home/ivan/miniconda3/envs/imgreg/lib/python3.8/site-packages/torch/nn/functional.py:3828: UserWarning: Default grid_sample and affine_grid behavior has changed to align_corners=False since 1.3.0. Please specify align_corners=True if the old behavior is desired. See the documentation of grid_sample for details.\n",
      "  warnings.warn(\n",
      "/home/ivan/miniconda3/envs/imgreg/lib/python3.8/site-packages/torch/nn/functional.py:3828: UserWarning: Default grid_sample and affine_grid behavior has changed to align_corners=False since 1.3.0. Please specify align_corners=True if the old behavior is desired. See the documentation of grid_sample for details.\n",
      "  warnings.warn(\n"
     ]
    },
    {
     "name": "stdout",
     "output_type": "stream",
     "text": [
      "Time for registration:  31.626995086669922\n",
      "Time for registration:  35.39812207221985\n"
     ]
    },
    {
     "name": "stderr",
     "output_type": "stream",
     "text": [
      "/home/ivan/miniconda3/envs/imgreg/lib/python3.8/site-packages/torch/nn/functional.py:3828: UserWarning: Default grid_sample and affine_grid behavior has changed to align_corners=False since 1.3.0. Please specify align_corners=True if the old behavior is desired. See the documentation of grid_sample for details.\n",
      "  warnings.warn(\n"
     ]
    },
    {
     "name": "stdout",
     "output_type": "stream",
     "text": [
      "Time for registration:  37.87932372093201\n",
      "Current pair:  13\n",
      "Status:  training\n",
      "Time for loading and memory transfer:  0.04955172538757324\n",
      "Current pair:  14\n",
      "Status:  evaluation\n",
      "Time for loading and memory transfer:  0.07593846321105957\n",
      "Current pair:  15\n",
      "Status:  evaluation\n",
      "Time for loading and memory transfer:  0.056925296783447266\n"
     ]
    },
    {
     "name": "stderr",
     "output_type": "stream",
     "text": [
      "/home/ivan/miniconda3/envs/imgreg/lib/python3.8/site-packages/torch/nn/functional.py:3828: UserWarning: Default grid_sample and affine_grid behavior has changed to align_corners=False since 1.3.0. Please specify align_corners=True if the old behavior is desired. See the documentation of grid_sample for details.\n",
      "  warnings.warn(\n"
     ]
    },
    {
     "name": "stdout",
     "output_type": "stream",
     "text": [
      "Time for registration:  36.05054473876953\n",
      "Current pair:  16\n",
      "Status:  evaluation\n",
      "Time for loading and memory transfer:  0.07604575157165527\n"
     ]
    },
    {
     "name": "stderr",
     "output_type": "stream",
     "text": [
      "/home/ivan/miniconda3/envs/imgreg/lib/python3.8/site-packages/torch/nn/functional.py:3828: UserWarning: Default grid_sample and affine_grid behavior has changed to align_corners=False since 1.3.0. Please specify align_corners=True if the old behavior is desired. See the documentation of grid_sample for details.\n",
      "  warnings.warn(\n"
     ]
    },
    {
     "name": "stdout",
     "output_type": "stream",
     "text": [
      "Time for registration:  68.10519623756409\n",
      "Current pair:  17\n",
      "Status:  evaluation\n",
      "Time for loading and memory transfer:  0.06183886528015137\n"
     ]
    },
    {
     "name": "stderr",
     "output_type": "stream",
     "text": [
      "/home/ivan/miniconda3/envs/imgreg/lib/python3.8/site-packages/torch/nn/functional.py:3828: UserWarning: Default grid_sample and affine_grid behavior has changed to align_corners=False since 1.3.0. Please specify align_corners=True if the old behavior is desired. See the documentation of grid_sample for details.\n",
      "  warnings.warn(\n"
     ]
    },
    {
     "name": "stdout",
     "output_type": "stream",
     "text": [
      "Time for registration:  39.48401188850403\n"
     ]
    },
    {
     "name": "stderr",
     "output_type": "stream",
     "text": [
      "/home/ivan/miniconda3/envs/imgreg/lib/python3.8/site-packages/torch/nn/functional.py:3828: UserWarning: Default grid_sample and affine_grid behavior has changed to align_corners=False since 1.3.0. Please specify align_corners=True if the old behavior is desired. See the documentation of grid_sample for details.\n",
      "  warnings.warn(\n"
     ]
    },
    {
     "name": "stdout",
     "output_type": "stream",
     "text": [
      "Time for registration:  34.71477770805359\n",
      "Current pair:  18\n",
      "Status:  training\n",
      "Time for loading and memory transfer:  0.05041050910949707\n",
      "Current pair:  19\n",
      "Status:  training\n",
      "Time for loading and memory transfer:  0.07117223739624023\n"
     ]
    },
    {
     "name": "stderr",
     "output_type": "stream",
     "text": [
      "/home/ivan/miniconda3/envs/imgreg/lib/python3.8/site-packages/torch/nn/functional.py:3828: UserWarning: Default grid_sample and affine_grid behavior has changed to align_corners=False since 1.3.0. Please specify align_corners=True if the old behavior is desired. See the documentation of grid_sample for details.\n",
      "  warnings.warn(\n"
     ]
    },
    {
     "name": "stdout",
     "output_type": "stream",
     "text": [
      "Time for registration:  40.78103184700012\n",
      "Current pair:  20\n",
      "Status:  training\n",
      "Time for loading and memory transfer:  0.06425690650939941\n"
     ]
    },
    {
     "name": "stderr",
     "output_type": "stream",
     "text": [
      "/home/ivan/miniconda3/envs/imgreg/lib/python3.8/site-packages/torch/nn/functional.py:3828: UserWarning: Default grid_sample and affine_grid behavior has changed to align_corners=False since 1.3.0. Please specify align_corners=True if the old behavior is desired. See the documentation of grid_sample for details.\n",
      "  warnings.warn(\n"
     ]
    },
    {
     "name": "stdout",
     "output_type": "stream",
     "text": [
      "Time for registration:  47.01118040084839\n",
      "Current pair:  21\n",
      "Status:  training\n",
      "Time for loading and memory transfer:  0.0567934513092041\n"
     ]
    },
    {
     "name": "stderr",
     "output_type": "stream",
     "text": [
      "/home/ivan/miniconda3/envs/imgreg/lib/python3.8/site-packages/torch/nn/functional.py:3828: UserWarning: Default grid_sample and affine_grid behavior has changed to align_corners=False since 1.3.0. Please specify align_corners=True if the old behavior is desired. See the documentation of grid_sample for details.\n",
      "  warnings.warn(\n"
     ]
    },
    {
     "name": "stdout",
     "output_type": "stream",
     "text": [
      "Time for registration:  46.21711802482605\n",
      "Current pair:  22\n",
      "Status:  training\n",
      "Time for loading and memory transfer:  0.06403756141662598\n"
     ]
    },
    {
     "name": "stderr",
     "output_type": "stream",
     "text": [
      "/home/ivan/miniconda3/envs/imgreg/lib/python3.8/site-packages/torch/nn/functional.py:3828: UserWarning: Default grid_sample and affine_grid behavior has changed to align_corners=False since 1.3.0. Please specify align_corners=True if the old behavior is desired. See the documentation of grid_sample for details.\n",
      "  warnings.warn(\n"
     ]
    },
    {
     "name": "stdout",
     "output_type": "stream",
     "text": [
      "Time for registration:  25.964234352111816\n",
      "Current pair:  23\n",
      "Status:  evaluation\n",
      "Time for loading and memory transfer:  0.05923748016357422\n"
     ]
    },
    {
     "name": "stderr",
     "output_type": "stream",
     "text": [
      "/home/ivan/miniconda3/envs/imgreg/lib/python3.8/site-packages/torch/nn/functional.py:3828: UserWarning: Default grid_sample and affine_grid behavior has changed to align_corners=False since 1.3.0. Please specify align_corners=True if the old behavior is desired. See the documentation of grid_sample for details.\n",
      "  warnings.warn(\n"
     ]
    },
    {
     "name": "stdout",
     "output_type": "stream",
     "text": [
      "Time for registration:  31.33941078186035\n",
      "Current pair:  24\n",
      "Status:  evaluation\n",
      "Time for loading and memory transfer:  0.08690571784973145\n"
     ]
    },
    {
     "name": "stderr",
     "output_type": "stream",
     "text": [
      "/home/ivan/miniconda3/envs/imgreg/lib/python3.8/site-packages/torch/nn/functional.py:3828: UserWarning: Default grid_sample and affine_grid behavior has changed to align_corners=False since 1.3.0. Please specify align_corners=True if the old behavior is desired. See the documentation of grid_sample for details.\n",
      "  warnings.warn(\n"
     ]
    },
    {
     "name": "stdout",
     "output_type": "stream",
     "text": [
      "Time for registration:  38.02614760398865\n",
      "Time for registration:  33.50017166137695\n"
     ]
    },
    {
     "name": "stderr",
     "output_type": "stream",
     "text": [
      "/home/ivan/miniconda3/envs/imgreg/lib/python3.8/site-packages/torch/nn/functional.py:3828: UserWarning: Default grid_sample and affine_grid behavior has changed to align_corners=False since 1.3.0. Please specify align_corners=True if the old behavior is desired. See the documentation of grid_sample for details.\n",
      "  warnings.warn(\n",
      "/home/ivan/miniconda3/envs/imgreg/lib/python3.8/site-packages/torch/nn/functional.py:3828: UserWarning: Default grid_sample and affine_grid behavior has changed to align_corners=False since 1.3.0. Please specify align_corners=True if the old behavior is desired. See the documentation of grid_sample for details.\n",
      "  warnings.warn(\n"
     ]
    },
    {
     "name": "stdout",
     "output_type": "stream",
     "text": [
      "Time for registration:  59.78539490699768\n",
      "Current pair:  25\n",
      "Status:  evaluation\n",
      "Time for loading and memory transfer:  0.06459331512451172\n",
      "Current pair:  26\n",
      "Status:  evaluation\n",
      "Time for loading and memory transfer:  0.0652155876159668\n",
      "Current pair:  27\n",
      "Status:  training\n",
      "Time for loading and memory transfer:  0.062044382095336914\n"
     ]
    },
    {
     "name": "stderr",
     "output_type": "stream",
     "text": [
      "/home/ivan/miniconda3/envs/imgreg/lib/python3.8/site-packages/torch/nn/functional.py:3828: UserWarning: Default grid_sample and affine_grid behavior has changed to align_corners=False since 1.3.0. Please specify align_corners=True if the old behavior is desired. See the documentation of grid_sample for details.\n",
      "  warnings.warn(\n"
     ]
    },
    {
     "name": "stdout",
     "output_type": "stream",
     "text": [
      "Time for registration:  34.09010362625122\n",
      "Current pair:  28\n",
      "Status:  evaluation\n",
      "Time for loading and memory transfer:  0.0777435302734375\n"
     ]
    }
   ],
   "source": [
    "run(ids_list)"
   ]
  },
  {
   "cell_type": "code",
   "execution_count": 10,
   "metadata": {},
   "outputs": [],
   "source": [
    "def find_missing_ids(output_dir, id_range):\n",
    "    # getting all directories in the output directory\n",
    "    dir_list = os.listdir(output_dir)\n",
    "\n",
    "    # creating list of missing ids\n",
    "    missing_ids = [\n",
    "        str(directory) for directory in id_range if str(directory) not in dir_list\n",
    "    ]\n",
    "\n",
    "    return missing_ids"
   ]
  },
  {
   "cell_type": "code",
   "execution_count": 12,
   "metadata": {},
   "outputs": [
    {
     "data": {
      "text/plain": [
       "[]"
      ]
     },
     "execution_count": 12,
     "metadata": {},
     "output_type": "execute_result"
    }
   ],
   "source": [
    "# output_dir = \"/data/ANHIR_Out_Aff_1024_Masks_TRANSFORMED_DEFORMABLE_EXP02\"\n",
    "id_range = range(0, 480)\n",
    "find_missing_ids(output_path, id_range)\n"
   ]
  },
  {
   "cell_type": "code",
   "execution_count": 1,
   "metadata": {},
   "outputs": [
    {
     "name": "stdout",
     "output_type": "stream",
     "text": [
      "                                   Median   Average\n",
      "tissue_COAD          Max         0.030106  0.046199\n",
      "                     Robustness  0.987952  0.954726\n",
      "                     Median      0.006297  0.017191\n",
      "                     Average     0.008077  0.018853\n",
      "tissue_breast        Max         0.047578  0.180325\n",
      "                     Robustness  1.000000  0.860371\n",
      "                     Median      0.019582  0.106042\n",
      "                     Average     0.023428  0.104692\n",
      "tissue_kidney        Max         0.021274  0.031668\n",
      "                     Robustness  0.975920  0.854819\n",
      "                     Median      0.004048  0.013835\n",
      "                     Average     0.004982  0.015287\n",
      "tissue_gastric       Max         0.044151  0.146253\n",
      "                     Robustness  1.000000  0.924803\n",
      "                     Median      0.026020  0.084467\n",
      "                     Average     0.026735  0.085390\n",
      "tissue_lung-lobes    Max              NaN       NaN\n",
      "                     Robustness       NaN       NaN\n",
      "                     Median           NaN       NaN\n",
      "                     Average          NaN       NaN\n",
      "tissue_lung-lesion   Max              NaN       NaN\n",
      "                     Robustness       NaN       NaN\n",
      "                     Median           NaN       NaN\n",
      "                     Average          NaN       NaN\n",
      "tissue_mice-kidney   Max         0.018935  0.038173\n",
      "                     Robustness  1.000000  0.951599\n",
      "                     Median      0.003986  0.015076\n",
      "                     Average     0.004216  0.015409\n",
      "tissue_mammary-gland Max              NaN       NaN\n",
      "                     Robustness       NaN       NaN\n",
      "                     Median           NaN       NaN\n",
      "                     Average          NaN       NaN\n"
     ]
    }
   ],
   "source": [
    "import pandas as pd\n",
    "import json\n",
    "\n",
    "data = json.load(open('./eval_exp_02.json'))['aggregates']\n",
    "\n",
    "# Initialize empty dictionary to hold the results\n",
    "results = {}\n",
    "\n",
    "for key, value in data.items():\n",
    "    parts = key.split('__')\n",
    "    if len(parts) == 3:\n",
    "        metric, tissue, _ = parts\n",
    "        metric_parts = metric.split(\"-\")\n",
    "        stat = metric_parts[0]\n",
    "        operation = metric_parts[1]\n",
    "        \n",
    "        if tissue not in results:\n",
    "            results[tissue] = {}\n",
    "        \n",
    "        if operation not in results[tissue]:\n",
    "            results[tissue][operation] = {}\n",
    "\n",
    "        results[tissue][operation][stat] = value\n",
    "\n",
    "# Convert the results dictionary to DataFrame\n",
    "df = pd.concat({k: pd.DataFrame(v).T for k, v in results.items()}, axis=0)\n",
    "\n",
    "print(df)"
   ]
  },
  {
   "cell_type": "code",
   "execution_count": 9,
   "metadata": {},
   "outputs": [
    {
     "data": {
      "image/png": "[encoded data removed]",
      "text/plain": [
       "<Figure size 1000x600 with 1 Axes>"
      ]
     },
     "metadata": {},
     "output_type": "display_data"
    }
   ],
   "source": [
    "import json\n",
    "import pandas as pd\n",
    "import matplotlib.pyplot as plt\n",
    "import seaborn as sns\n",
    "\n",
    "# Load data from JSON\n",
    "data = json.load(open('./eval_exp_01.json'))['aggregates']\n",
    "\n",
    "# separate global and tissue-specific metrics\n",
    "global_metrics = {k: v for k, v in data.items() if \"__\" not in k}\n",
    "tissue_metrics = {k: v for k, v in data.items() if \"__\" in k}\n",
    "\n",
    "# convert to dataframes\n",
    "global_df = pd.DataFrame(list(global_metrics.items()), columns=['Metric', 'Value'])\n",
    "global_df['Type'] = 'Global'\n",
    "\n",
    "tissue_df = pd.DataFrame(list(tissue_metrics.items()), columns=['Metric', 'Value'])\n",
    "\n",
    "# Parse tissue metrics to obtain the clean metric name and tissue\n",
    "tissue_df[['Metric','Tissue']] = tissue_df['Metric'].str.split(\"__\",expand=True)[[0,1]]\n",
    "tissue_df['Type'] = 'Tissue'\n",
    "\n",
    "# Merge the metric dataframes\n",
    "combined_df = pd.concat([global_df, tissue_df], ignore_index=True)\n",
    "\n",
    "# Select a metric for comparison\n",
    "metric = 'Median-Median-rTRE'\n",
    "\n",
    "# Filter combined dataframe by the selected metric\n",
    "filtered_df = combined_df[combined_df['Metric'] == metric]\n",
    "\n",
    "# Plot box and whiskers\n",
    "plt.figure(figsize=(10, 6))\n",
    "sns.boxplot(x='Tissue', y='Value', hue='Type', data=filtered_df)\n",
    "\n",
    "plt.title('Comparison of global and tissue-specific metrics for '+metric)\n",
    "plt.xticks(rotation=90)\n",
    "plt.show()\n"
   ]
  }
 ],
 "metadata": {
  "kernelspec": {
   "display_name": "imgreg",
   "language": "python",
   "name": "python3"
  },
  "language_info": {
   "codemirror_mode": {
    "name": "ipython",
    "version": 3
   },
   "file_extension": ".py",
   "mimetype": "text/x-python",
   "name": "python",
   "nbconvert_exporter": "python",
   "pygments_lexer": "ipython3",
   "version": "3.8.17"
  },
  "orig_nbformat": 4
 },
 "nbformat": 4,
 "nbformat_minor": 2
}
