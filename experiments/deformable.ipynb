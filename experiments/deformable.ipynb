{
 "cells": [
  {
   "cell_type": "markdown",
   "metadata": {},
   "source": [
    "### Deformable Registration"
   ]
  },
  {
   "cell_type": "code",
   "execution_count": 13,
   "metadata": {},
   "outputs": [],
   "source": [
    "import torch\n",
    "from tiatoolbox.models.engine.semantic_segmentor import IOSegmentorConfig, SemanticSegmentor\n",
    "from tiatoolbox.tools.registration.wsi_registration import match_histograms, DFBRegister\n",
    "from tiatoolbox.utils.misc import imread\n",
    "import os\n",
    "import cv2\n",
    "import numpy as np\n",
    "from scipy import ndimage\n",
    "import SimpleITK as sitk\n",
    "from matplotlib import pyplot as plt\n",
    "from skimage import color, exposure, measure, morphology"
   ]
  },
  {
   "cell_type": "code",
   "execution_count": 14,
   "metadata": {},
   "outputs": [],
   "source": [
    "def register(source, target, source_mask, target_mask):\n",
    "    # Inverting intensity values\n",
    "    target = 255 - target\n",
    "    source = 255 - source\n",
    "\n",
    "    # Background Removal\n",
    "    target_mask = np.array(target_mask != 0, dtype=np.uint8)\n",
    "    source_mask = np.array(source_mask != 0, dtype=np.uint8)\n",
    "    target = cv2.bitwise_and(target, target, mask=target_mask)\n",
    "    source = cv2.bitwise_and(source, source, mask=source_mask)\n",
    "\n",
    "    # Getting SimpleITK Images from numpy arrays\n",
    "    target_image_inv_sitk = sitk.GetImageFromArray(target)\n",
    "    source_image_inv_sitk = sitk.GetImageFromArray(source)\n",
    "    target_image_inv_sitk = sitk.Cast(target_image_inv_sitk, sitk.sitkFloat32)\n",
    "    source_image_inv_sitk = sitk.Cast(source_image_inv_sitk, sitk.sitkFloat32)\n",
    "\n",
    "    # Determine the number of BSpline control points\n",
    "    mesh_size = [3] * target_image_inv_sitk.GetDimension()\n",
    "    tx = sitk.BSplineTransformInitializer(\n",
    "        image1=target_image_inv_sitk, transformDomainMeshSize=mesh_size\n",
    "    )\n",
    "    print(\"Initial Number of Parameters: {0}\".format(tx.GetNumberOfParameters()))\n",
    "\n",
    "    R = sitk.ImageRegistrationMethod()\n",
    "    R.SetInitialTransformAsBSpline(tx, inPlace=True, scaleFactors=[1, 2, 5])\n",
    "    R.SetMetricAsMattesMutualInformation(50)\n",
    "    R.SetMetricSamplingStrategy(R.RANDOM)\n",
    "    R.SetMetricSamplingPercentage(0.2)\n",
    "\n",
    "    R.SetShrinkFactorsPerLevel([4, 2, 1])\n",
    "    R.SetSmoothingSigmasPerLevel([4, 2, 1])\n",
    "    R.SetOptimizerAsGradientDescentLineSearch(\n",
    "        0.5, 100, convergenceMinimumValue=1e-4, convergenceWindowSize=5\n",
    "    )\n",
    "    R.SetInterpolator(sitk.sitkLinear)\n",
    "    outTx = R.Execute(target_image_inv_sitk, source_image_inv_sitk)\n",
    "    displacement_field_image = sitk.TransformToDisplacementField(outTx, \n",
    "                                                             sitk.sitkVectorFloat64,\n",
    "                                                             target_image_inv_sitk.GetSize(),\n",
    "                                                             target_image_inv_sitk.GetOrigin(),\n",
    "                                                             target_image_inv_sitk.GetSpacing(),\n",
    "                                                             target_image_inv_sitk.GetDirection())\n",
    "    # Convert the displacement field image to a numpy array\n",
    "    displacement_field_array = sitk.GetArrayFromImage(displacement_field_image)\n",
    "\n",
    "    # Convert the numpy array to a PyTorch tensor\n",
    "    return torch.from_numpy(displacement_field_array)\n"
   ]
  },
  {
   "cell_type": "code",
   "execution_count": null,
   "metadata": {},
   "outputs": [],
   "source": [
    "def register(source, target, source_mask, target_mask, device=\"cuda\"):\n",
    "    source = source.cpu().numpy()\n",
    "    target = target.cpu().numpy()\n",
    "    source_mask = source_mask.cpu().numpy()\n",
    "    target_mask = target_mask.cpu().numpy()\n",
    "\n",
    "    # Inverting intensity values\n",
    "    target = 255 - target\n",
    "    source = 255 - source\n",
    "\n",
    "    # Background Removal\n",
    "    target_mask = np.array(target_mask != 0, dtype=np.uint8)\n",
    "    source_mask = np.array(source_mask != 0, dtype=np.uint8)\n",
    "    target = cv2.bitwise_and(target, target, mask=target_mask)\n",
    "    source = cv2.bitwise_and(source, source, mask=source_mask)\n",
    "\n",
    "    # check_image_values(source)\n",
    "    # check_image_values(target)\n",
    "\n",
    "    # Getting SimpleITK Images from numpy arrays\n",
    "    source_image_inv_sitk = sitk.GetImageFromArray(source)\n",
    "    target_image_inv_sitk = sitk.GetImageFromArray(target)\n",
    "\n",
    "    # Explicitly set the spacing to a non-zero value\n",
    "    source_image_inv_sitk.SetSpacing([1.0, 1.0])\n",
    "    target_image_inv_sitk.SetSpacing([1.0, 1.0])\n",
    "\n",
    "    # Ensure the images have the same size and spacing\n",
    "    resampler = sitk.ResampleImageFilter()\n",
    "    resampler.SetSize(source_image_inv_sitk.GetSize())\n",
    "    resampler.SetOutputSpacing(source_image_inv_sitk.GetSpacing())\n",
    "    target_image_inv_sitk = resampler.Execute(target_image_inv_sitk)\n",
    "\n",
    "    source_image_inv_sitk = sitk.Cast(source_image_inv_sitk, sitk.sitkFloat32)\n",
    "    target_image_inv_sitk = sitk.Cast(target_image_inv_sitk, sitk.sitkFloat32)\n",
    "\n",
    "    if (\n",
    "        min(source_image_inv_sitk.GetSize()) < 2\n",
    "        or min(target_image_inv_sitk.GetSize()) < 2\n",
    "    ):\n",
    "        raise ValueError(\"Images have degenerate dimensions.\")\n",
    "\n",
    "    # Define the transform\n",
    "    transformDomainMeshSize = [4] * source_image_inv_sitk.GetDimension()\n",
    "    tx = sitk.BSplineTransformInitializer(\n",
    "        source_image_inv_sitk, transformDomainMeshSize\n",
    "    )\n",
    "\n",
    "    R = sitk.ImageRegistrationMethod()\n",
    "    R.SetInitialTransformAsBSpline(tx, inPlace=True, scaleFactors=[1, 2, 5])\n",
    "    R.SetMetricAsMattesMutualInformation(50)\n",
    "    R.SetMetricSamplingStrategy(R.RANDOM)\n",
    "    R.SetMetricSamplingPercentage(0.2)\n",
    "\n",
    "    R.SetShrinkFactorsPerLevel([4, 2, 1])\n",
    "    R.SetSmoothingSigmasPerLevel([4, 2, 1])\n",
    "    R.SetOptimizerAsGradientDescentLineSearch(\n",
    "        0.5, 100, convergenceMinimumValue=1e-4, convergenceWindowSize=5\n",
    "    )\n",
    "    R.SetInterpolator(sitk.sitkLinear)\n",
    "\n",
    "    outTx = R.Execute(source_image_inv_sitk, target_image_inv_sitk)\n",
    "    displacement_field_image = sitk.TransformToDisplacementField(\n",
    "        outTx,\n",
    "        sitk.sitkVectorFloat64,\n",
    "        source_image_inv_sitk.GetSize(),\n",
    "        source_image_inv_sitk.GetOrigin(),\n",
    "        source_image_inv_sitk.GetSpacing(),\n",
    "        source_image_inv_sitk.GetDirection(),\n",
    "    )\n",
    "    # Convert the displacement field image to a numpy array\n",
    "    displacement_field_array = sitk.GetArrayFromImage(displacement_field_image)\n",
    "\n",
    "    # Convert the numpy array to a PyTorch tensor and move to GPU\n",
    "    return torch.from_numpy(displacement_field_array).to(device)\n"
   ]
  },
  {
   "cell_type": "code",
   "execution_count": 15,
   "metadata": {},
   "outputs": [],
   "source": [
    "source_dir = \"/data/ANHIR_Out_Aff_1024_Masks_TRANSFORMED/\"\n",
    "sample_id = \"0\"\n",
    "sample_path = os.path.join(source_dir, sample_id)\n",
    "source_path = os.path.join(sample_path, \"source.mha\")\n",
    "target_path = os.path.join(sample_path, \"transformed_target.mha\")\n",
    "target_mask_path = os.path.join(sample_path, \"transformed_target_mask.mha\")\n",
    "source_mask_path = os.path.join(sample_path, \"source_mask.mha\")"
   ]
  },
  {
   "cell_type": "code",
   "execution_count": 16,
   "metadata": {},
   "outputs": [],
   "source": [
    "# Reading images\n",
    "source = sitk.GetArrayFromImage(sitk.ReadImage(source_path)).astype(np.float32)\n",
    "target = sitk.GetArrayFromImage(sitk.ReadImage(target_path)).astype(np.float32)\n",
    "target_mask_path = sitk.GetArrayFromImage(sitk.ReadImage(target_mask_path)).astype(np.float32)\n",
    "source_mask_path = sitk.GetArrayFromImage(sitk.ReadImage(source_mask_path)).astype(np.float32)"
   ]
  },
  {
   "cell_type": "code",
   "execution_count": 17,
   "metadata": {},
   "outputs": [
    {
     "name": "stdout",
     "output_type": "stream",
     "text": [
      "Initial Number of Parameters: 72\n"
     ]
    }
   ],
   "source": [
    "transform = register(source, target, source_mask_path, target_mask_path)\n"
   ]
  },
  {
   "cell_type": "code",
   "execution_count": 19,
   "metadata": {},
   "outputs": [
    {
     "data": {
      "text/plain": [
       "torch.Size([1024, 659, 2])"
      ]
     },
     "execution_count": 19,
     "metadata": {},
     "output_type": "execute_result"
    }
   ],
   "source": [
    "transform.shape"
   ]
  }
 ],
 "metadata": {
  "kernelspec": {
   "display_name": "tiatoolbox",
   "language": "python",
   "name": "python3"
  },
  "language_info": {
   "codemirror_mode": {
    "name": "ipython",
    "version": 3
   },
   "file_extension": ".py",
   "mimetype": "text/x-python",
   "name": "python",
   "nbconvert_exporter": "python",
   "pygments_lexer": "ipython3",
   "version": "3.11.0"
  },
  "orig_nbformat": 4
 },
 "nbformat": 4,
 "nbformat_minor": 2
}
